{
 "cells": [
  {
   "cell_type": "code",
   "execution_count": 27,
   "metadata": {},
   "outputs": [],
   "source": [
    "import torch\n",
    "import torch.nn as nn\n",
    "import torch.nn.functional as F\n",
    "from torch.utils.data import DataLoader\n",
    "from torchvision import datasets, transforms\n",
    "from torchvision.utils import make_grid\n",
    "\n",
    "import numpy as np\n",
    "import pandas as pd\n",
    "from sklearn.metrics import confusion_matrix\n",
    "import matplotlib.pyplot as plt\n",
    "%matplotlib inline"
   ]
  },
  {
   "cell_type": "code",
   "execution_count": 2,
   "metadata": {},
   "outputs": [],
   "source": [
    "transform = transforms.ToTensor()"
   ]
  },
  {
   "cell_type": "code",
   "execution_count": 3,
   "metadata": {},
   "outputs": [],
   "source": [
    "train_data = datasets.MNIST(root='../Data', train=True, download=True, transform=transform)"
   ]
  },
  {
   "cell_type": "code",
   "execution_count": 4,
   "metadata": {},
   "outputs": [],
   "source": [
    "test_data = datasets.MNIST(root='../Data', train=False, download=True, transform=transform)"
   ]
  },
  {
   "cell_type": "code",
   "execution_count": 5,
   "metadata": {},
   "outputs": [
    {
     "data": {
      "text/plain": [
       "Dataset MNIST\n",
       "    Number of datapoints: 60000\n",
       "    Root location: ../Data\n",
       "    Split: Train\n",
       "    StandardTransform\n",
       "Transform: ToTensor()"
      ]
     },
     "execution_count": 5,
     "metadata": {},
     "output_type": "execute_result"
    }
   ],
   "source": [
    "train_data"
   ]
  },
  {
   "cell_type": "code",
   "execution_count": 6,
   "metadata": {},
   "outputs": [
    {
     "data": {
      "text/plain": [
       "Dataset MNIST\n",
       "    Number of datapoints: 10000\n",
       "    Root location: ../Data\n",
       "    Split: Test\n",
       "    StandardTransform\n",
       "Transform: ToTensor()"
      ]
     },
     "execution_count": 6,
     "metadata": {},
     "output_type": "execute_result"
    }
   ],
   "source": [
    "test_data"
   ]
  },
  {
   "cell_type": "code",
   "execution_count": 7,
   "metadata": {},
   "outputs": [],
   "source": [
    "train_loader = DataLoader(train_data, batch_size=10, shuffle=True)\n",
    "test_loader = DataLoader(test_data, batch_size=10, shuffle=False)"
   ]
  },
  {
   "cell_type": "code",
   "execution_count": 8,
   "metadata": {},
   "outputs": [],
   "source": [
    "conv1 = nn.Conv2d(1, 6, 3, 1)\n",
    "conv2 = nn.Conv2d(6, 16, 3, 1)"
   ]
  },
  {
   "cell_type": "code",
   "execution_count": 9,
   "metadata": {},
   "outputs": [],
   "source": [
    "for i, (X_train, y_train) in enumerate(train_data):\n",
    "    break"
   ]
  },
  {
   "cell_type": "code",
   "execution_count": 10,
   "metadata": {},
   "outputs": [
    {
     "data": {
      "text/plain": [
       "torch.Size([1, 28, 28])"
      ]
     },
     "execution_count": 10,
     "metadata": {},
     "output_type": "execute_result"
    }
   ],
   "source": [
    "X_train.shape"
   ]
  },
  {
   "cell_type": "code",
   "execution_count": 11,
   "metadata": {},
   "outputs": [
    {
     "data": {
      "text/plain": [
       "torch.Size([1, 1, 28, 28])"
      ]
     },
     "execution_count": 11,
     "metadata": {},
     "output_type": "execute_result"
    }
   ],
   "source": [
    "# Create a rank-4 tensor to be passed into the model\n",
    "# (train_loader will have done this already)\n",
    "x = X_train.view(1, 1, 28, 28)\n",
    "x.shape"
   ]
  },
  {
   "cell_type": "code",
   "execution_count": 12,
   "metadata": {},
   "outputs": [],
   "source": [
    "x = F.relu(conv1(x))"
   ]
  },
  {
   "cell_type": "code",
   "execution_count": 13,
   "metadata": {},
   "outputs": [
    {
     "data": {
      "text/plain": [
       "torch.Size([1, 6, 26, 26])"
      ]
     },
     "execution_count": 13,
     "metadata": {},
     "output_type": "execute_result"
    }
   ],
   "source": [
    "x.shape"
   ]
  },
  {
   "cell_type": "code",
   "execution_count": 14,
   "metadata": {},
   "outputs": [],
   "source": [
    "x = F.max_pool2d(x, 2, 2)"
   ]
  },
  {
   "cell_type": "code",
   "execution_count": 15,
   "metadata": {},
   "outputs": [
    {
     "data": {
      "text/plain": [
       "torch.Size([1, 6, 13, 13])"
      ]
     },
     "execution_count": 15,
     "metadata": {},
     "output_type": "execute_result"
    }
   ],
   "source": [
    "x.shape"
   ]
  },
  {
   "cell_type": "code",
   "execution_count": 16,
   "metadata": {},
   "outputs": [],
   "source": [
    "x = F.relu(conv2(x))"
   ]
  },
  {
   "cell_type": "code",
   "execution_count": 17,
   "metadata": {},
   "outputs": [
    {
     "data": {
      "text/plain": [
       "torch.Size([1, 16, 11, 11])"
      ]
     },
     "execution_count": 17,
     "metadata": {},
     "output_type": "execute_result"
    }
   ],
   "source": [
    "x.shape"
   ]
  },
  {
   "cell_type": "code",
   "execution_count": 18,
   "metadata": {},
   "outputs": [],
   "source": [
    "x = F.max_pool2d(x, 2, 2)"
   ]
  },
  {
   "cell_type": "code",
   "execution_count": 19,
   "metadata": {},
   "outputs": [
    {
     "data": {
      "text/plain": [
       "torch.Size([1, 16, 5, 5])"
      ]
     },
     "execution_count": 19,
     "metadata": {},
     "output_type": "execute_result"
    }
   ],
   "source": [
    "x.shape"
   ]
  },
  {
   "cell_type": "code",
   "execution_count": 20,
   "metadata": {},
   "outputs": [
    {
     "data": {
      "text/plain": [
       "torch.Size([1, 400])"
      ]
     },
     "execution_count": 20,
     "metadata": {},
     "output_type": "execute_result"
    }
   ],
   "source": [
    "x.view(-1, 16 * 5 * 5).shape"
   ]
  },
  {
   "cell_type": "code",
   "execution_count": 21,
   "metadata": {},
   "outputs": [],
   "source": [
    "class ConvolutionalNetwork(nn.Module):\n",
    "    def __init__(self):\n",
    "        super().__init__()\n",
    "        self.conv1 = nn.Conv2d(in_channels=1, out_channels=6, kernel_size=3, stride=1)\n",
    "        self.conv2 = nn.Conv2d(in_channels=6, out_channels=16, kernel_size=3, stride=1)\n",
    "        self.fc1 = nn.Linear(in_features=16 * 5 * 5, out_features=120)\n",
    "        self.fc2 = nn.Linear(in_features=120, out_features=84)\n",
    "        self.fc3 = nn.Linear(in_features=84, out_features=10)\n",
    "    \n",
    "    def forward(self, X):\n",
    "        X = F.relu(self.conv1(X))\n",
    "        X = F.max_pool2d(X, 2, 2)\n",
    "        X = F.relu(self.conv2(X))\n",
    "        X = F.max_pool2d(X, 2, 2)\n",
    "        X = X.view(-1, 16 * 5 * 5)\n",
    "        X = F.relu(self.fc1(X))\n",
    "        X = F.relu(self.fc2(X))\n",
    "        X = self.fc3(X)\n",
    "        \n",
    "        return F.log_softmax(X, dim=1)"
   ]
  },
  {
   "cell_type": "code",
   "execution_count": 22,
   "metadata": {},
   "outputs": [
    {
     "data": {
      "text/plain": [
       "ConvolutionalNetwork(\n",
       "  (conv1): Conv2d(1, 6, kernel_size=(3, 3), stride=(1, 1))\n",
       "  (conv2): Conv2d(6, 16, kernel_size=(3, 3), stride=(1, 1))\n",
       "  (fc1): Linear(in_features=400, out_features=120, bias=True)\n",
       "  (fc2): Linear(in_features=120, out_features=84, bias=True)\n",
       "  (fc3): Linear(in_features=84, out_features=10, bias=True)\n",
       ")"
      ]
     },
     "execution_count": 22,
     "metadata": {},
     "output_type": "execute_result"
    }
   ],
   "source": [
    "torch.manual_seed(42)\n",
    "model = ConvolutionalNetwork()\n",
    "model"
   ]
  },
  {
   "cell_type": "code",
   "execution_count": 23,
   "metadata": {},
   "outputs": [
    {
     "name": "stdout",
     "output_type": "stream",
     "text": [
      "54\n",
      "6\n",
      "864\n",
      "16\n",
      "48000\n",
      "120\n",
      "10080\n",
      "84\n",
      "840\n",
      "10\n"
     ]
    }
   ],
   "source": [
    "for param in model.parameters():\n",
    "    print(param.numel())"
   ]
  },
  {
   "cell_type": "code",
   "execution_count": 24,
   "metadata": {},
   "outputs": [],
   "source": [
    "criterion = nn.CrossEntropyLoss()\n",
    "optimizer = torch.optim.Adam(model.parameters(), lr=0.001)"
   ]
  },
  {
   "cell_type": "code",
   "execution_count": 25,
   "metadata": {},
   "outputs": [
    {
     "name": "stdout",
     "output_type": "stream",
     "text": [
      "epoch:  0  batch:  600 [  6000/60000]  loss: 0.24575421  accuracy:  78.450%\n",
      "epoch:  0  batch: 1200 [ 12000/60000]  loss: 0.65931159  accuracy:  85.700%\n",
      "epoch:  0  batch: 1800 [ 18000/60000]  loss: 0.01969394  accuracy:  88.794%\n",
      "epoch:  0  batch: 2400 [ 24000/60000]  loss: 0.02576473  accuracy:  90.542%\n",
      "epoch:  0  batch: 3000 [ 30000/60000]  loss: 0.01212707  accuracy:  91.660%\n",
      "epoch:  0  batch: 3600 [ 36000/60000]  loss: 0.00760453  accuracy:  92.483%\n",
      "epoch:  0  batch: 4200 [ 42000/60000]  loss: 0.07230872  accuracy:  93.062%\n",
      "epoch:  0  batch: 4800 [ 48000/60000]  loss: 0.00292655  accuracy:  93.594%\n",
      "epoch:  0  batch: 5400 [ 54000/60000]  loss: 0.00042489  accuracy:  94.004%\n",
      "epoch:  0  batch: 6000 [ 60000/60000]  loss: 0.00450279  accuracy:  94.350%\n",
      "epoch:  1  batch:  600 [  6000/60000]  loss: 0.01885824  accuracy:  98.000%\n",
      "epoch:  1  batch: 1200 [ 12000/60000]  loss: 0.34362853  accuracy:  97.892%\n",
      "epoch:  1  batch: 1800 [ 18000/60000]  loss: 0.39755189  accuracy:  97.861%\n",
      "epoch:  1  batch: 2400 [ 24000/60000]  loss: 0.00120631  accuracy:  97.892%\n",
      "epoch:  1  batch: 3000 [ 30000/60000]  loss: 0.00097694  accuracy:  97.877%\n",
      "epoch:  1  batch: 3600 [ 36000/60000]  loss: 0.13787036  accuracy:  97.908%\n",
      "epoch:  1  batch: 4200 [ 42000/60000]  loss: 0.02108592  accuracy:  97.950%\n",
      "epoch:  1  batch: 4800 [ 48000/60000]  loss: 0.28749126  accuracy:  97.971%\n",
      "epoch:  1  batch: 5400 [ 54000/60000]  loss: 0.00500735  accuracy:  98.044%\n",
      "epoch:  1  batch: 6000 [ 60000/60000]  loss: 0.00580075  accuracy:  98.037%\n",
      "epoch:  2  batch:  600 [  6000/60000]  loss: 0.01350266  accuracy:  98.733%\n",
      "epoch:  2  batch: 1200 [ 12000/60000]  loss: 0.00100993  accuracy:  98.692%\n",
      "epoch:  2  batch: 1800 [ 18000/60000]  loss: 0.00028607  accuracy:  98.689%\n",
      "epoch:  2  batch: 2400 [ 24000/60000]  loss: 0.00053171  accuracy:  98.612%\n",
      "epoch:  2  batch: 3000 [ 30000/60000]  loss: 0.01062879  accuracy:  98.617%\n",
      "epoch:  2  batch: 3600 [ 36000/60000]  loss: 0.00010330  accuracy:  98.611%\n",
      "epoch:  2  batch: 4200 [ 42000/60000]  loss: 0.00085509  accuracy:  98.600%\n",
      "epoch:  2  batch: 4800 [ 48000/60000]  loss: 0.00125642  accuracy:  98.579%\n",
      "epoch:  2  batch: 5400 [ 54000/60000]  loss: 0.00023471  accuracy:  98.604%\n",
      "epoch:  2  batch: 6000 [ 60000/60000]  loss: 0.00001755  accuracy:  98.608%\n",
      "epoch:  3  batch:  600 [  6000/60000]  loss: 0.03671919  accuracy:  99.133%\n",
      "epoch:  3  batch: 1200 [ 12000/60000]  loss: 0.00608210  accuracy:  98.892%\n",
      "epoch:  3  batch: 1800 [ 18000/60000]  loss: 0.00303599  accuracy:  98.789%\n",
      "epoch:  3  batch: 2400 [ 24000/60000]  loss: 0.00377404  accuracy:  98.867%\n",
      "epoch:  3  batch: 3000 [ 30000/60000]  loss: 0.00003588  accuracy:  98.913%\n",
      "epoch:  3  batch: 3600 [ 36000/60000]  loss: 0.00020134  accuracy:  98.903%\n",
      "epoch:  3  batch: 4200 [ 42000/60000]  loss: 0.00713241  accuracy:  98.888%\n",
      "epoch:  3  batch: 4800 [ 48000/60000]  loss: 0.01036825  accuracy:  98.910%\n",
      "epoch:  3  batch: 5400 [ 54000/60000]  loss: 0.00037476  accuracy:  98.898%\n",
      "epoch:  3  batch: 6000 [ 60000/60000]  loss: 0.00012884  accuracy:  98.895%\n",
      "epoch:  4  batch:  600 [  6000/60000]  loss: 0.00249016  accuracy:  99.167%\n",
      "epoch:  4  batch: 1200 [ 12000/60000]  loss: 0.36201674  accuracy:  99.133%\n",
      "epoch:  4  batch: 1800 [ 18000/60000]  loss: 0.02469714  accuracy:  99.117%\n",
      "epoch:  4  batch: 2400 [ 24000/60000]  loss: 0.00002309  accuracy:  99.108%\n",
      "epoch:  4  batch: 3000 [ 30000/60000]  loss: 0.01062102  accuracy:  99.097%\n",
      "epoch:  4  batch: 3600 [ 36000/60000]  loss: 0.00041386  accuracy:  99.108%\n",
      "epoch:  4  batch: 4200 [ 42000/60000]  loss: 0.00037180  accuracy:  99.105%\n",
      "epoch:  4  batch: 4800 [ 48000/60000]  loss: 0.00063402  accuracy:  99.112%\n",
      "epoch:  4  batch: 5400 [ 54000/60000]  loss: 0.01509188  accuracy:  99.111%\n",
      "epoch:  4  batch: 6000 [ 60000/60000]  loss: 0.00112144  accuracy:  99.103%\n",
      "\n",
      "Duration: 216 seconds\n"
     ]
    }
   ],
   "source": [
    "import time\n",
    "start_time = time.time()\n",
    "\n",
    "\n",
    "epochs = 5\n",
    "train_losses = []\n",
    "test_losses = []\n",
    "train_correct = []\n",
    "test_correct = []\n",
    "\n",
    "\n",
    "# Run the training batches\n",
    "for i in range(epochs):\n",
    "    trn_corr = 0\n",
    "    tst_corr = 0\n",
    "    \n",
    "    for b, (X_train, y_train) in enumerate(train_loader):\n",
    "        b += 1\n",
    "        \n",
    "        # Apply the model\n",
    "        y_pred = model(X_train)\n",
    "        loss = criterion(y_pred, y_train)\n",
    "        \n",
    "        # Tally the number of correct predictions\n",
    "        predicted = torch.max(y_pred.data, 1)[1]\n",
    "        batch_corr = (predicted == y_train).sum() # True 1 / False 0\n",
    "        trn_corr += batch_corr\n",
    "        \n",
    "        # Update parameters\n",
    "        optimizer.zero_grad()\n",
    "        loss.backward()\n",
    "        optimizer.step()\n",
    "        \n",
    "        if b%600 == 0:\n",
    "            print(f'epoch: {i:2}  batch: {b:4} [{10*b:6}/60000]  loss: {loss.item():10.8f}  \\\n",
    "accuracy: {trn_corr.item()*100/(10*b):7.3f}%')\n",
    "    \n",
    "    train_losses.append(loss)\n",
    "    train_correct.append(trn_corr)\n",
    "    \n",
    "    \n",
    "    with torch.no_grad():\n",
    "        for b, (X_test, y_test) in enumerate(test_loader):\n",
    "            y_val = model(X_test)\n",
    "            \n",
    "            predicted = torch.max(y_val.data, 1)[1]\n",
    "            tst_corr += (predicted == y_test).sum()\n",
    "    \n",
    "    loss = criterion(y_val, y_test)\n",
    "    test_losses.append(loss)\n",
    "    test_correct.append(tst_corr)\n",
    "\n",
    "print(f'\\nDuration: {time.time() - start_time:.0f} seconds') # print the time elapsed       "
   ]
  },
  {
   "cell_type": "markdown",
   "metadata": {},
   "source": [
    "### Plot the loss and accuracy comparisons"
   ]
  },
  {
   "cell_type": "code",
   "execution_count": 28,
   "metadata": {},
   "outputs": [
    {
     "data": {
      "image/png": "[encoded data removed]",
      "text/plain": [
       "<Figure size 432x288 with 1 Axes>"
      ]
     },
     "metadata": {
      "needs_background": "light"
     },
     "output_type": "display_data"
    }
   ],
   "source": [
    "plt.plot(train_losses, label='training loss')\n",
    "plt.plot(test_losses, label='validation loss')\n",
    "plt.title('Loss at the end of each epoch')\n",
    "plt.legend();"
   ]
  },
  {
   "cell_type": "code",
   "execution_count": 29,
   "metadata": {},
   "outputs": [
    {
     "data": {
      "image/png": "[encoded data removed]",
      "text/plain": [
       "<Figure size 432x288 with 1 Axes>"
      ]
     },
     "metadata": {
      "needs_background": "light"
     },
     "output_type": "display_data"
    }
   ],
   "source": [
    "plt.plot([t/600 for t in train_correct], label='training accuracy')\n",
    "plt.plot([t/100 for t in test_correct], label='validation accuracy')\n",
    "plt.title('Accuracy at the end of each epoch')\n",
    "plt.legend();"
   ]
  },
  {
   "cell_type": "markdown",
   "metadata": {},
   "source": [
    "### Evaluate Test Data"
   ]
  },
  {
   "cell_type": "code",
   "execution_count": 30,
   "metadata": {},
   "outputs": [],
   "source": [
    "test_load_all = DataLoader(test_data, batch_size=10000, shuffle=False)"
   ]
  },
  {
   "cell_type": "code",
   "execution_count": 31,
   "metadata": {},
   "outputs": [
    {
     "name": "stdout",
     "output_type": "stream",
     "text": [
      "Test accuracy: 9852/10000 =  98.520%\n"
     ]
    }
   ],
   "source": [
    "with torch.no_grad():\n",
    "    correct = 0\n",
    "    for X_test, y_test in test_load_all:\n",
    "        y_val = model(X_test)\n",
    "        predicted = torch.max(y_val, 1)[1]\n",
    "        correct += (predicted == y_test).sum()\n",
    "print(f'Test accuracy: {correct.item()}/{len(test_data)} = {correct.item()*100/(len(test_data)):7.3f}%')"
   ]
  },
  {
   "cell_type": "markdown",
   "metadata": {},
   "source": [
    "### Display the confusion matrix"
   ]
  },
  {
   "cell_type": "code",
   "execution_count": 32,
   "metadata": {},
   "outputs": [
    {
     "name": "stdout",
     "output_type": "stream",
     "text": [
      "[[   0    1    2    3    4    5    6    7    8    9]]\n",
      "\n",
      "[[ 980    0    6    0    0    3    6    3   11    3]\n",
      " [   0 1130    7    0    0    0    1    2    0    1]\n",
      " [   0    0 1007    1    0    0    0    4    0    0]\n",
      " [   0    1    1 1006    0    9    0    1    1    1]\n",
      " [   0    0    1    0  980    0    2    0    1   10]\n",
      " [   0    2    0    1    0  862    1    0    2    2]\n",
      " [   0    0    0    0    1    1  944    0    0    1]\n",
      " [   0    0    9    0    0    1    0 1010    1    4]\n",
      " [   0    2    1    2    0    6    4    2  957   11]\n",
      " [   0    0    0    0    1   10    0    6    1  976]]\n"
     ]
    }
   ],
   "source": [
    "# print a row of values for reference\n",
    "np.set_printoptions(formatter=dict(int=lambda x: f'{x:4}'))\n",
    "print(np.arange(10).reshape(1,10))\n",
    "print()\n",
    "\n",
    "# print the confusion matrix\n",
    "print(confusion_matrix(predicted.view(-1), y_test.view(-1)))"
   ]
  },
  {
   "cell_type": "code",
   "execution_count": null,
   "metadata": {},
   "outputs": [],
   "source": []
  }
 ],
 "metadata": {
  "kernelspec": {
   "display_name": "Python 3",
   "language": "python",
   "name": "python3"
  },
  "language_info": {
   "codemirror_mode": {
    "name": "ipython",
    "version": 3
   },
   "file_extension": ".py",
   "mimetype": "text/x-python",
   "name": "python",
   "nbconvert_exporter": "python",
   "pygments_lexer": "ipython3",
   "version": "3.7.4"
  }
 },
 "nbformat": 4,
 "nbformat_minor": 2
}
