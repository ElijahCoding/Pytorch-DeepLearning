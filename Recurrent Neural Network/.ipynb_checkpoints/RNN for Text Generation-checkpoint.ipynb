{
 "cells": [
  {
   "cell_type": "code",
   "execution_count": 1,
   "metadata": {},
   "outputs": [],
   "source": [
    "import torch\n",
    "from torch import nn\n",
    "import torch.nn.functional as F\n",
    "\n",
    "import numpy as np\n",
    "import matplotlib.pyplot as plt\n",
    "%matplotlib inline"
   ]
  },
  {
   "cell_type": "code",
   "execution_count": 2,
   "metadata": {},
   "outputs": [],
   "source": [
    "with open('./Data/shakespeare.txt','r',encoding='utf8') as f:\n",
    "    text = f.read()"
   ]
  },
  {
   "cell_type": "code",
   "execution_count": 3,
   "metadata": {},
   "outputs": [
    {
     "data": {
      "text/plain": [
       "5445609"
      ]
     },
     "execution_count": 3,
     "metadata": {},
     "output_type": "execute_result"
    }
   ],
   "source": [
    "len(text)"
   ]
  },
  {
   "cell_type": "code",
   "execution_count": 4,
   "metadata": {},
   "outputs": [],
   "source": [
    "all_characters = set(text)"
   ]
  },
  {
   "cell_type": "code",
   "execution_count": 5,
   "metadata": {},
   "outputs": [
    {
     "data": {
      "text/plain": [
       "{'\\n',\n",
       " ' ',\n",
       " '!',\n",
       " '\"',\n",
       " '&',\n",
       " \"'\",\n",
       " '(',\n",
       " ')',\n",
       " ',',\n",
       " '-',\n",
       " '.',\n",
       " '0',\n",
       " '1',\n",
       " '2',\n",
       " '3',\n",
       " '4',\n",
       " '5',\n",
       " '6',\n",
       " '7',\n",
       " '8',\n",
       " '9',\n",
       " ':',\n",
       " ';',\n",
       " '<',\n",
       " '>',\n",
       " '?',\n",
       " 'A',\n",
       " 'B',\n",
       " 'C',\n",
       " 'D',\n",
       " 'E',\n",
       " 'F',\n",
       " 'G',\n",
       " 'H',\n",
       " 'I',\n",
       " 'J',\n",
       " 'K',\n",
       " 'L',\n",
       " 'M',\n",
       " 'N',\n",
       " 'O',\n",
       " 'P',\n",
       " 'Q',\n",
       " 'R',\n",
       " 'S',\n",
       " 'T',\n",
       " 'U',\n",
       " 'V',\n",
       " 'W',\n",
       " 'X',\n",
       " 'Y',\n",
       " 'Z',\n",
       " '[',\n",
       " ']',\n",
       " '_',\n",
       " '`',\n",
       " 'a',\n",
       " 'b',\n",
       " 'c',\n",
       " 'd',\n",
       " 'e',\n",
       " 'f',\n",
       " 'g',\n",
       " 'h',\n",
       " 'i',\n",
       " 'j',\n",
       " 'k',\n",
       " 'l',\n",
       " 'm',\n",
       " 'n',\n",
       " 'o',\n",
       " 'p',\n",
       " 'q',\n",
       " 'r',\n",
       " 's',\n",
       " 't',\n",
       " 'u',\n",
       " 'v',\n",
       " 'w',\n",
       " 'x',\n",
       " 'y',\n",
       " 'z',\n",
       " '|',\n",
       " '}'}"
      ]
     },
     "execution_count": 5,
     "metadata": {},
     "output_type": "execute_result"
    }
   ],
   "source": [
    "all_characters"
   ]
  },
  {
   "cell_type": "code",
   "execution_count": 6,
   "metadata": {},
   "outputs": [
    {
     "data": {
      "text/plain": [
       "84"
      ]
     },
     "execution_count": 6,
     "metadata": {},
     "output_type": "execute_result"
    }
   ],
   "source": [
    "len(all_characters)"
   ]
  },
  {
   "cell_type": "code",
   "execution_count": 7,
   "metadata": {},
   "outputs": [
    {
     "name": "stdout",
     "output_type": "stream",
     "text": [
      "(0, ' ')\n",
      "(1, '`')\n",
      "(2, '4')\n",
      "(3, 'e')\n",
      "(4, ')')\n",
      "(5, 'N')\n",
      "(6, '(')\n",
      "(7, '_')\n",
      "(8, '3')\n",
      "(9, 'H')\n",
      "(10, 'u')\n",
      "(11, 'g')\n",
      "(12, 'U')\n",
      "(13, 'v')\n",
      "(14, '-')\n",
      "(15, 'Q')\n",
      "(16, 'E')\n",
      "(17, 'X')\n",
      "(18, '.')\n",
      "(19, '?')\n",
      "(20, 'R')\n",
      "(21, 'I')\n",
      "(22, 'q')\n",
      "(23, 'a')\n",
      "(24, 'r')\n",
      "(25, 'G')\n",
      "(26, ':')\n",
      "(27, 'C')\n",
      "(28, 't')\n",
      "(29, 's')\n",
      "(30, '|')\n",
      "(31, 'B')\n",
      "(32, 'f')\n",
      "(33, '8')\n",
      "(34, \"'\")\n",
      "(35, 'i')\n",
      "(36, 'd')\n",
      "(37, '!')\n",
      "(38, 'A')\n",
      "(39, 'w')\n",
      "(40, ';')\n",
      "(41, 'l')\n",
      "(42, '[')\n",
      "(43, 'b')\n",
      "(44, '>')\n",
      "(45, '1')\n",
      "(46, 'k')\n",
      "(47, 'n')\n",
      "(48, '\"')\n",
      "(49, '5')\n",
      "(50, 'y')\n",
      "(51, 'Y')\n",
      "(52, '0')\n",
      "(53, '6')\n",
      "(54, ']')\n",
      "(55, 'V')\n",
      "(56, '&')\n",
      "(57, 'O')\n",
      "(58, '9')\n",
      "(59, '\\n')\n",
      "(60, 'M')\n",
      "(61, 'K')\n",
      "(62, 'h')\n",
      "(63, '<')\n",
      "(64, 'c')\n",
      "(65, 'j')\n",
      "(66, 'o')\n",
      "(67, 'z')\n",
      "(68, 'J')\n",
      "(69, 'm')\n",
      "(70, 'x')\n",
      "(71, 'Z')\n",
      "(72, 'W')\n",
      "(73, '2')\n",
      "(74, 'T')\n",
      "(75, 'F')\n",
      "(76, ',')\n",
      "(77, '}')\n",
      "(78, 'S')\n",
      "(79, 'P')\n",
      "(80, '7')\n",
      "(81, 'D')\n",
      "(82, 'L')\n",
      "(83, 'p')\n"
     ]
    }
   ],
   "source": [
    "for pair in enumerate(all_characters):\n",
    "    print(pair)"
   ]
  },
  {
   "cell_type": "code",
   "execution_count": 8,
   "metadata": {},
   "outputs": [],
   "source": [
    "decoder = dict(enumerate(all_characters))"
   ]
  },
  {
   "cell_type": "code",
   "execution_count": 9,
   "metadata": {},
   "outputs": [],
   "source": [
    "encoder = {char: ind for ind, char in decoder.items()}"
   ]
  },
  {
   "cell_type": "code",
   "execution_count": 10,
   "metadata": {},
   "outputs": [
    {
     "data": {
      "text/plain": [
       "{' ': 0,\n",
       " '`': 1,\n",
       " '4': 2,\n",
       " 'e': 3,\n",
       " ')': 4,\n",
       " 'N': 5,\n",
       " '(': 6,\n",
       " '_': 7,\n",
       " '3': 8,\n",
       " 'H': 9,\n",
       " 'u': 10,\n",
       " 'g': 11,\n",
       " 'U': 12,\n",
       " 'v': 13,\n",
       " '-': 14,\n",
       " 'Q': 15,\n",
       " 'E': 16,\n",
       " 'X': 17,\n",
       " '.': 18,\n",
       " '?': 19,\n",
       " 'R': 20,\n",
       " 'I': 21,\n",
       " 'q': 22,\n",
       " 'a': 23,\n",
       " 'r': 24,\n",
       " 'G': 25,\n",
       " ':': 26,\n",
       " 'C': 27,\n",
       " 't': 28,\n",
       " 's': 29,\n",
       " '|': 30,\n",
       " 'B': 31,\n",
       " 'f': 32,\n",
       " '8': 33,\n",
       " \"'\": 34,\n",
       " 'i': 35,\n",
       " 'd': 36,\n",
       " '!': 37,\n",
       " 'A': 38,\n",
       " 'w': 39,\n",
       " ';': 40,\n",
       " 'l': 41,\n",
       " '[': 42,\n",
       " 'b': 43,\n",
       " '>': 44,\n",
       " '1': 45,\n",
       " 'k': 46,\n",
       " 'n': 47,\n",
       " '\"': 48,\n",
       " '5': 49,\n",
       " 'y': 50,\n",
       " 'Y': 51,\n",
       " '0': 52,\n",
       " '6': 53,\n",
       " ']': 54,\n",
       " 'V': 55,\n",
       " '&': 56,\n",
       " 'O': 57,\n",
       " '9': 58,\n",
       " '\\n': 59,\n",
       " 'M': 60,\n",
       " 'K': 61,\n",
       " 'h': 62,\n",
       " '<': 63,\n",
       " 'c': 64,\n",
       " 'j': 65,\n",
       " 'o': 66,\n",
       " 'z': 67,\n",
       " 'J': 68,\n",
       " 'm': 69,\n",
       " 'x': 70,\n",
       " 'Z': 71,\n",
       " 'W': 72,\n",
       " '2': 73,\n",
       " 'T': 74,\n",
       " 'F': 75,\n",
       " ',': 76,\n",
       " '}': 77,\n",
       " 'S': 78,\n",
       " 'P': 79,\n",
       " '7': 80,\n",
       " 'D': 81,\n",
       " 'L': 82,\n",
       " 'p': 83}"
      ]
     },
     "execution_count": 10,
     "metadata": {},
     "output_type": "execute_result"
    }
   ],
   "source": [
    "encoder"
   ]
  },
  {
   "cell_type": "code",
   "execution_count": 11,
   "metadata": {},
   "outputs": [],
   "source": [
    "eocoded_text = np.array([encoder[char] for char in text])"
   ]
  },
  {
   "cell_type": "code",
   "execution_count": 12,
   "metadata": {},
   "outputs": [
    {
     "data": {
      "text/plain": [
       "array([59,  0,  0,  0,  0,  0,  0,  0,  0,  0,  0,  0,  0,  0,  0,  0,  0,\n",
       "        0,  0,  0])"
      ]
     },
     "execution_count": 12,
     "metadata": {},
     "output_type": "execute_result"
    }
   ],
   "source": [
    "eocoded_text[:20]"
   ]
  },
  {
   "cell_type": "code",
   "execution_count": 13,
   "metadata": {},
   "outputs": [
    {
     "data": {
      "text/plain": [
       "'d'"
      ]
     },
     "execution_count": 13,
     "metadata": {},
     "output_type": "execute_result"
    }
   ],
   "source": [
    "decoder[36]"
   ]
  },
  {
   "cell_type": "code",
   "execution_count": 15,
   "metadata": {},
   "outputs": [],
   "source": [
    "def one_hot_encoder(encoded_text, num_uni_chars):\n",
    "    one_hot = np.zeros((encoded_text.size, num_uni_chars))\n",
    "    one_hot = one_hot.astype(np.float32)\n",
    "    one_hot[np.arange(one_hot.shape[0]), encoded_text.flatten()] = 1.0\n",
    "    one_hot = one_hot.reshape((*encoded_text.shape, num_uni_chars))\n",
    "    return one_hot"
   ]
  },
  {
   "cell_type": "code",
   "execution_count": 16,
   "metadata": {},
   "outputs": [],
   "source": [
    "arr = np.array([1,2,0])"
   ]
  },
  {
   "cell_type": "code",
   "execution_count": 17,
   "metadata": {},
   "outputs": [
    {
     "data": {
      "text/plain": [
       "array([1, 2, 0])"
      ]
     },
     "execution_count": 17,
     "metadata": {},
     "output_type": "execute_result"
    }
   ],
   "source": [
    "arr"
   ]
  },
  {
   "cell_type": "code",
   "execution_count": 18,
   "metadata": {},
   "outputs": [
    {
     "data": {
      "text/plain": [
       "array([[0., 1., 0.],\n",
       "       [0., 0., 1.],\n",
       "       [1., 0., 0.]], dtype=float32)"
      ]
     },
     "execution_count": 18,
     "metadata": {},
     "output_type": "execute_result"
    }
   ],
   "source": [
    "one_hot_encoder(arr, 3)"
   ]
  },
  {
   "cell_type": "code",
   "execution_count": null,
   "metadata": {},
   "outputs": [],
   "source": [
    "def generate_batches(encoded_text, samp_per_batch=10, seq_len=50):\n",
    "    char_per_batch = samp_per_batch * seq_len"
   ]
  }
 ],
 "metadata": {
  "kernelspec": {
   "display_name": "Python 3",
   "language": "python",
   "name": "python3"
  },
  "language_info": {
   "codemirror_mode": {
    "name": "ipython",
    "version": 3
   },
   "file_extension": ".py",
   "mimetype": "text/x-python",
   "name": "python",
   "nbconvert_exporter": "python",
   "pygments_lexer": "ipython3",
   "version": "3.7.4"
  }
 },
 "nbformat": 4,
 "nbformat_minor": 2
}
