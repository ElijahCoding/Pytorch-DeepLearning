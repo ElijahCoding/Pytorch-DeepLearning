{
 "cells": [
  {
   "cell_type": "code",
   "execution_count": 1,
   "metadata": {},
   "outputs": [],
   "source": [
    "import torch\n",
    "from torch import nn\n",
    "import torch.nn.functional as F\n",
    "\n",
    "import numpy as np\n",
    "import matplotlib.pyplot as plt\n",
    "%matplotlib inline"
   ]
  },
  {
   "cell_type": "code",
   "execution_count": 2,
   "metadata": {},
   "outputs": [],
   "source": [
    "with open('./Data/shakespeare.txt','r',encoding='utf8') as f:\n",
    "    text = f.read()"
   ]
  },
  {
   "cell_type": "code",
   "execution_count": 3,
   "metadata": {},
   "outputs": [
    {
     "data": {
      "text/plain": [
       "5445609"
      ]
     },
     "execution_count": 3,
     "metadata": {},
     "output_type": "execute_result"
    }
   ],
   "source": [
    "len(text)"
   ]
  },
  {
   "cell_type": "code",
   "execution_count": 4,
   "metadata": {},
   "outputs": [],
   "source": [
    "all_characters = set(text)"
   ]
  },
  {
   "cell_type": "code",
   "execution_count": 5,
   "metadata": {},
   "outputs": [
    {
     "data": {
      "text/plain": [
       "{'\\n',\n",
       " ' ',\n",
       " '!',\n",
       " '\"',\n",
       " '&',\n",
       " \"'\",\n",
       " '(',\n",
       " ')',\n",
       " ',',\n",
       " '-',\n",
       " '.',\n",
       " '0',\n",
       " '1',\n",
       " '2',\n",
       " '3',\n",
       " '4',\n",
       " '5',\n",
       " '6',\n",
       " '7',\n",
       " '8',\n",
       " '9',\n",
       " ':',\n",
       " ';',\n",
       " '<',\n",
       " '>',\n",
       " '?',\n",
       " 'A',\n",
       " 'B',\n",
       " 'C',\n",
       " 'D',\n",
       " 'E',\n",
       " 'F',\n",
       " 'G',\n",
       " 'H',\n",
       " 'I',\n",
       " 'J',\n",
       " 'K',\n",
       " 'L',\n",
       " 'M',\n",
       " 'N',\n",
       " 'O',\n",
       " 'P',\n",
       " 'Q',\n",
       " 'R',\n",
       " 'S',\n",
       " 'T',\n",
       " 'U',\n",
       " 'V',\n",
       " 'W',\n",
       " 'X',\n",
       " 'Y',\n",
       " 'Z',\n",
       " '[',\n",
       " ']',\n",
       " '_',\n",
       " '`',\n",
       " 'a',\n",
       " 'b',\n",
       " 'c',\n",
       " 'd',\n",
       " 'e',\n",
       " 'f',\n",
       " 'g',\n",
       " 'h',\n",
       " 'i',\n",
       " 'j',\n",
       " 'k',\n",
       " 'l',\n",
       " 'm',\n",
       " 'n',\n",
       " 'o',\n",
       " 'p',\n",
       " 'q',\n",
       " 'r',\n",
       " 's',\n",
       " 't',\n",
       " 'u',\n",
       " 'v',\n",
       " 'w',\n",
       " 'x',\n",
       " 'y',\n",
       " 'z',\n",
       " '|',\n",
       " '}'}"
      ]
     },
     "execution_count": 5,
     "metadata": {},
     "output_type": "execute_result"
    }
   ],
   "source": [
    "all_characters"
   ]
  },
  {
   "cell_type": "code",
   "execution_count": 6,
   "metadata": {},
   "outputs": [
    {
     "data": {
      "text/plain": [
       "84"
      ]
     },
     "execution_count": 6,
     "metadata": {},
     "output_type": "execute_result"
    }
   ],
   "source": [
    "len(all_characters)"
   ]
  },
  {
   "cell_type": "code",
   "execution_count": 7,
   "metadata": {},
   "outputs": [
    {
     "name": "stdout",
     "output_type": "stream",
     "text": [
      "(0, '&')\n",
      "(1, '4')\n",
      "(2, 'v')\n",
      "(3, 's')\n",
      "(4, 'G')\n",
      "(5, '\"')\n",
      "(6, '8')\n",
      "(7, '[')\n",
      "(8, 'u')\n",
      "(9, 'w')\n",
      "(10, 'c')\n",
      "(11, 'N')\n",
      "(12, '5')\n",
      "(13, 'M')\n",
      "(14, 'R')\n",
      "(15, ']')\n",
      "(16, ',')\n",
      "(17, 'F')\n",
      "(18, 'o')\n",
      "(19, '6')\n",
      "(20, 'K')\n",
      "(21, 'O')\n",
      "(22, ':')\n",
      "(23, \"'\")\n",
      "(24, ')')\n",
      "(25, 'e')\n",
      "(26, '_')\n",
      "(27, '2')\n",
      "(28, 'y')\n",
      "(29, '3')\n",
      "(30, 'T')\n",
      "(31, 'B')\n",
      "(32, 'J')\n",
      "(33, 'Y')\n",
      "(34, 'X')\n",
      "(35, 'P')\n",
      "(36, ' ')\n",
      "(37, 't')\n",
      "(38, 'W')\n",
      "(39, '.')\n",
      "(40, 'Q')\n",
      "(41, 'p')\n",
      "(42, 'U')\n",
      "(43, 'k')\n",
      "(44, 'S')\n",
      "(45, 'r')\n",
      "(46, '>')\n",
      "(47, 'j')\n",
      "(48, 'b')\n",
      "(49, 'D')\n",
      "(50, 'n')\n",
      "(51, 'H')\n",
      "(52, 'V')\n",
      "(53, '0')\n",
      "(54, 'A')\n",
      "(55, 'Z')\n",
      "(56, '}')\n",
      "(57, 'h')\n",
      "(58, 'I')\n",
      "(59, 'i')\n",
      "(60, '7')\n",
      "(61, '|')\n",
      "(62, 'f')\n",
      "(63, '?')\n",
      "(64, '\\n')\n",
      "(65, 'L')\n",
      "(66, '(')\n",
      "(67, 'g')\n",
      "(68, 'a')\n",
      "(69, '<')\n",
      "(70, 'd')\n",
      "(71, 'l')\n",
      "(72, '1')\n",
      "(73, 'E')\n",
      "(74, '-')\n",
      "(75, ';')\n",
      "(76, 'x')\n",
      "(77, 'C')\n",
      "(78, 'q')\n",
      "(79, '`')\n",
      "(80, 'z')\n",
      "(81, '9')\n",
      "(82, '!')\n",
      "(83, 'm')\n"
     ]
    }
   ],
   "source": [
    "for pair in enumerate(all_characters):\n",
    "    print(pair)"
   ]
  },
  {
   "cell_type": "code",
   "execution_count": 8,
   "metadata": {},
   "outputs": [],
   "source": [
    "decoder = dict(enumerate(all_characters))"
   ]
  },
  {
   "cell_type": "code",
   "execution_count": 10,
   "metadata": {},
   "outputs": [],
   "source": [
    "encoder = {char: ind for ind, char in decoder.items()}"
   ]
  },
  {
   "cell_type": "code",
   "execution_count": 11,
   "metadata": {},
   "outputs": [
    {
     "data": {
      "text/plain": [
       "{'&': 0,\n",
       " '4': 1,\n",
       " 'v': 2,\n",
       " 's': 3,\n",
       " 'G': 4,\n",
       " '\"': 5,\n",
       " '8': 6,\n",
       " '[': 7,\n",
       " 'u': 8,\n",
       " 'w': 9,\n",
       " 'c': 10,\n",
       " 'N': 11,\n",
       " '5': 12,\n",
       " 'M': 13,\n",
       " 'R': 14,\n",
       " ']': 15,\n",
       " ',': 16,\n",
       " 'F': 17,\n",
       " 'o': 18,\n",
       " '6': 19,\n",
       " 'K': 20,\n",
       " 'O': 21,\n",
       " ':': 22,\n",
       " \"'\": 23,\n",
       " ')': 24,\n",
       " 'e': 25,\n",
       " '_': 26,\n",
       " '2': 27,\n",
       " 'y': 28,\n",
       " '3': 29,\n",
       " 'T': 30,\n",
       " 'B': 31,\n",
       " 'J': 32,\n",
       " 'Y': 33,\n",
       " 'X': 34,\n",
       " 'P': 35,\n",
       " ' ': 36,\n",
       " 't': 37,\n",
       " 'W': 38,\n",
       " '.': 39,\n",
       " 'Q': 40,\n",
       " 'p': 41,\n",
       " 'U': 42,\n",
       " 'k': 43,\n",
       " 'S': 44,\n",
       " 'r': 45,\n",
       " '>': 46,\n",
       " 'j': 47,\n",
       " 'b': 48,\n",
       " 'D': 49,\n",
       " 'n': 50,\n",
       " 'H': 51,\n",
       " 'V': 52,\n",
       " '0': 53,\n",
       " 'A': 54,\n",
       " 'Z': 55,\n",
       " '}': 56,\n",
       " 'h': 57,\n",
       " 'I': 58,\n",
       " 'i': 59,\n",
       " '7': 60,\n",
       " '|': 61,\n",
       " 'f': 62,\n",
       " '?': 63,\n",
       " '\\n': 64,\n",
       " 'L': 65,\n",
       " '(': 66,\n",
       " 'g': 67,\n",
       " 'a': 68,\n",
       " '<': 69,\n",
       " 'd': 70,\n",
       " 'l': 71,\n",
       " '1': 72,\n",
       " 'E': 73,\n",
       " '-': 74,\n",
       " ';': 75,\n",
       " 'x': 76,\n",
       " 'C': 77,\n",
       " 'q': 78,\n",
       " '`': 79,\n",
       " 'z': 80,\n",
       " '9': 81,\n",
       " '!': 82,\n",
       " 'm': 83}"
      ]
     },
     "execution_count": 11,
     "metadata": {},
     "output_type": "execute_result"
    }
   ],
   "source": [
    "encoder"
   ]
  },
  {
   "cell_type": "code",
   "execution_count": 12,
   "metadata": {},
   "outputs": [],
   "source": [
    "eocoded_text = np.array([encoder[char] for char in text])"
   ]
  },
  {
   "cell_type": "code",
   "execution_count": 14,
   "metadata": {},
   "outputs": [
    {
     "data": {
      "text/plain": [
       "array([64, 36, 36, 36, 36, 36, 36, 36, 36, 36, 36, 36, 36, 36, 36, 36, 36,\n",
       "       36, 36, 36])"
      ]
     },
     "execution_count": 14,
     "metadata": {},
     "output_type": "execute_result"
    }
   ],
   "source": [
    "eocoded_text[:20]"
   ]
  },
  {
   "cell_type": "code",
   "execution_count": 15,
   "metadata": {},
   "outputs": [
    {
     "data": {
      "text/plain": [
       "' '"
      ]
     },
     "execution_count": 15,
     "metadata": {},
     "output_type": "execute_result"
    }
   ],
   "source": [
    "decoder[36]"
   ]
  },
  {
   "cell_type": "code",
   "execution_count": null,
   "metadata": {},
   "outputs": [],
   "source": [
    "def one_hot_encoder(encoded_text, num_uni_chars):\n",
    "    one_hot = np.zeros((encoded_text.size, num_uni_chars))\n",
    "    one_hot = one_hot.astype(np.float32)\n",
    "    one_hot[np.arange(one_hot.shape[0]), encoded_text.flatten()] = 1.0\n",
    "    one_hot = one_hot.reshape((*encoded_text.shape, num_uni_chars))\n",
    "    return one_hot"
   ]
  }
 ],
 "metadata": {
  "kernelspec": {
   "display_name": "Python 3",
   "language": "python",
   "name": "python3"
  },
  "language_info": {
   "codemirror_mode": {
    "name": "ipython",
    "version": 3
   },
   "file_extension": ".py",
   "mimetype": "text/x-python",
   "name": "python",
   "nbconvert_exporter": "python",
   "pygments_lexer": "ipython3",
   "version": "3.7.4"
  }
 },
 "nbformat": 4,
 "nbformat_minor": 2
}
